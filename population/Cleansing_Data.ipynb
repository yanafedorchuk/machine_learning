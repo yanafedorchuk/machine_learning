{
 "cells": [
  {
   "cell_type": "code",
   "execution_count": 1,
   "metadata": {},
   "outputs": [],
   "source": [
    "#подгружаем необходимые библиотеки\n",
    "import pandas as pd\n",
    "import numpy as np"
   ]
  },
  {
   "cell_type": "code",
   "execution_count": 9,
   "metadata": {},
   "outputs": [],
   "source": [
    "#считываем датасет с населением\n",
    "eupop=pd.read_csv('EUpop.csv')\n",
    "europe=np.array(['Belgium', 'Germany', 'Estonia', 'Finland', 'United Kingdom',\n",
    "'Guernsey', 'Jersey', 'Isle of Man', 'Netherlands', 'Ireland',\n",
    "'Denmark', 'Luxembourg', 'Norway', 'Poland', 'Sweden', 'Spain',\n",
    "'Albania', 'Bulgaria', 'Cyprus', 'Croatia', 'France', 'Greece',\n",
    "'Hungary', 'Italy', 'Slovenia', 'Czech Republic', 'Malta',\n",
    "'Austria', 'Portugal', 'Bosnia and Herzegovina', 'Romania',\n",
    "'Switzerland', 'Turkey', 'Moldova', 'Macedonia', 'Gibraltar',\n",
    "'Serbia', 'Montenegro', 'Slovakia', 'Ukraine', 'Russia', 'Belarus',\n",
    "'Latvia', 'Lithuania','Faroe Islands', 'Greenland', 'Iceland'])"
   ]
  },
  {
   "cell_type": "code",
   "execution_count": 30,
   "metadata": {},
   "outputs": [],
   "source": [
    "europe_df=eupop[eupop['Country or Area'].isin(europe)]\n",
    "europe_new=europe_df.drop(['Value Footnotes', 'Source Year', 'Record Type', 'Sex', 'Reliability', 'Area'], axis=1)"
   ]
  },
  {
   "cell_type": "code",
   "execution_count": null,
   "metadata": {},
   "outputs": [],
   "source": []
  }
 ],
 "metadata": {
  "kernelspec": {
   "display_name": "Python 3",
   "language": "python",
   "name": "python3"
  },
  "language_info": {
   "codemirror_mode": {
    "name": "ipython",
    "version": 3
   },
   "file_extension": ".py",
   "mimetype": "text/x-python",
   "name": "python",
   "nbconvert_exporter": "python",
   "pygments_lexer": "ipython3",
   "version": "3.7.1"
  }
 },
 "nbformat": 4,
 "nbformat_minor": 2
}
