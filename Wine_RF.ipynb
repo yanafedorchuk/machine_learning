{
 "cells": [
  {
   "cell_type": "markdown",
   "metadata": {},
   "source": [
    "# Подгружаем необходимые библиотеки и датасет\n"
   ]
  },
  {
   "cell_type": "code",
   "execution_count": 1,
   "metadata": {},
   "outputs": [],
   "source": [
    "import pandas as pd\n",
    "import numpy as np\n",
    "import matplotlib.pyplot as plt\n",
    "import seaborn as sns\n",
    "from sklearn.ensemble import RandomForestRegressor, RandomForestClassifier\n",
    "from sklearn.model_selection import train_test_split\n",
    "from sklearn.preprocessing import LabelEncoder\n",
    "from sklearn.metrics import mean_squared_error, r2_score, mean_absolute_error\n",
    "from sklearn.model_selection import GridSearchCV,KFold, StratifiedShuffleSplit\n",
    "from sklearn.pipeline import Pipeline\n",
    "from sklearn.neighbors import KNeighborsClassifier\n",
    "from sklearn.metrics import f1_score\n",
    "from sklearn.metrics import fbeta_score, make_scorer\n",
    "from sklearn.preprocessing import PolynomialFeatures\n",
    "from sklearn.svm import SVC\n",
    "from sklearn.ensemble import GradientBoostingClassifier\n",
    "from sklearn import linear_model\n",
    "from sklearn.metrics import confusion_matrix\n",
    "df_train = pd.read_csv('wine_train.csv') \n",
    "df_train['quality']=(df_train['quality']>6).astype(int)\n",
    "X=df_train.iloc[:,:-1].values\n",
    "y=df_train['quality'].values\n",
    "X_train, X_test, y_train, y_test = train_test_split(X, y, test_size = 0.2, random_state = 0, shuffle=True, stratify=y)"
   ]
  },
  {
   "cell_type": "markdown",
   "metadata": {},
   "source": [
    "# Grid Search"
   ]
  },
  {
   "cell_type": "code",
   "execution_count": 2,
   "metadata": {},
   "outputs": [
    {
     "name": "stderr",
     "output_type": "stream",
     "text": [
      "C:\\Users\\Yana\\Anaconda3\\lib\\site-packages\\sklearn\\model_selection\\_split.py:2053: FutureWarning: You should specify a value for 'cv' instead of relying on the default value. The default value will change from 3 to 5 in version 0.22.\n",
      "  warnings.warn(CV_WARNING, FutureWarning)\n",
      "C:\\Users\\Yana\\Anaconda3\\lib\\site-packages\\sklearn\\ensemble\\forest.py:246: FutureWarning: The default value of n_estimators will change from 10 in version 0.20 to 100 in 0.22.\n",
      "  \"10 in version 0.20 to 100 in 0.22.\", FutureWarning)\n"
     ]
    },
    {
     "data": {
      "text/html": [
       "<div>\n",
       "<style scoped>\n",
       "    .dataframe tbody tr th:only-of-type {\n",
       "        vertical-align: middle;\n",
       "    }\n",
       "\n",
       "    .dataframe tbody tr th {\n",
       "        vertical-align: top;\n",
       "    }\n",
       "\n",
       "    .dataframe thead th {\n",
       "        text-align: right;\n",
       "    }\n",
       "</style>\n",
       "<table border=\"1\" class=\"dataframe\">\n",
       "  <thead>\n",
       "    <tr style=\"text-align: right;\">\n",
       "      <th></th>\n",
       "      <th>3170</th>\n",
       "    </tr>\n",
       "  </thead>\n",
       "  <tbody>\n",
       "    <tr>\n",
       "      <th>mean_fit_time</th>\n",
       "      <td>0.0769661</td>\n",
       "    </tr>\n",
       "    <tr>\n",
       "      <th>std_fit_time</th>\n",
       "      <td>0.00370726</td>\n",
       "    </tr>\n",
       "    <tr>\n",
       "      <th>mean_score_time</th>\n",
       "      <td>0.0043563</td>\n",
       "    </tr>\n",
       "    <tr>\n",
       "      <th>std_score_time</th>\n",
       "      <td>0.000510372</td>\n",
       "    </tr>\n",
       "    <tr>\n",
       "      <th>param_classifier</th>\n",
       "      <td>(DecisionTreeClassifier(class_weight=None, cri...</td>\n",
       "    </tr>\n",
       "    <tr>\n",
       "      <th>param_classifier__criterion</th>\n",
       "      <td>entropy</td>\n",
       "    </tr>\n",
       "    <tr>\n",
       "      <th>param_classifier__max_depth</th>\n",
       "      <td>10</td>\n",
       "    </tr>\n",
       "    <tr>\n",
       "      <th>param_classifier__max_features</th>\n",
       "      <td>10</td>\n",
       "    </tr>\n",
       "    <tr>\n",
       "      <th>param_classifier__min_samples_leaf</th>\n",
       "      <td>3</td>\n",
       "    </tr>\n",
       "    <tr>\n",
       "      <th>param_classifier__min_samples_split</th>\n",
       "      <td>10</td>\n",
       "    </tr>\n",
       "    <tr>\n",
       "      <th>param_fitch</th>\n",
       "      <td>PolynomialFeatures(degree=1, include_bias=True...</td>\n",
       "    </tr>\n",
       "    <tr>\n",
       "      <th>param_fitch__degree</th>\n",
       "      <td>1</td>\n",
       "    </tr>\n",
       "    <tr>\n",
       "      <th>param_preprocessing</th>\n",
       "      <td>RobustScaler(copy=True, quantile_range=(25.0, ...</td>\n",
       "    </tr>\n",
       "    <tr>\n",
       "      <th>params</th>\n",
       "      <td>{'classifier': (DecisionTreeClassifier(class_w...</td>\n",
       "    </tr>\n",
       "    <tr>\n",
       "      <th>split0_test_score</th>\n",
       "      <td>0.675676</td>\n",
       "    </tr>\n",
       "    <tr>\n",
       "      <th>split1_test_score</th>\n",
       "      <td>0.533333</td>\n",
       "    </tr>\n",
       "    <tr>\n",
       "      <th>split2_test_score</th>\n",
       "      <td>0.514286</td>\n",
       "    </tr>\n",
       "    <tr>\n",
       "      <th>mean_test_score</th>\n",
       "      <td>0.5746</td>\n",
       "    </tr>\n",
       "    <tr>\n",
       "      <th>std_test_score</th>\n",
       "      <td>0.0720594</td>\n",
       "    </tr>\n",
       "    <tr>\n",
       "      <th>rank_test_score</th>\n",
       "      <td>1</td>\n",
       "    </tr>\n",
       "    <tr>\n",
       "      <th>split0_train_score</th>\n",
       "      <td>0.847682</td>\n",
       "    </tr>\n",
       "    <tr>\n",
       "      <th>split1_train_score</th>\n",
       "      <td>0.844156</td>\n",
       "    </tr>\n",
       "    <tr>\n",
       "      <th>split2_train_score</th>\n",
       "      <td>0.858974</td>\n",
       "    </tr>\n",
       "    <tr>\n",
       "      <th>mean_train_score</th>\n",
       "      <td>0.850271</td>\n",
       "    </tr>\n",
       "    <tr>\n",
       "      <th>std_train_score</th>\n",
       "      <td>0.00632049</td>\n",
       "    </tr>\n",
       "  </tbody>\n",
       "</table>\n",
       "</div>"
      ],
      "text/plain": [
       "                                                                                  3170\n",
       "mean_fit_time                                                                0.0769661\n",
       "std_fit_time                                                                0.00370726\n",
       "mean_score_time                                                              0.0043563\n",
       "std_score_time                                                             0.000510372\n",
       "param_classifier                     (DecisionTreeClassifier(class_weight=None, cri...\n",
       "param_classifier__criterion                                                    entropy\n",
       "param_classifier__max_depth                                                         10\n",
       "param_classifier__max_features                                                      10\n",
       "param_classifier__min_samples_leaf                                                   3\n",
       "param_classifier__min_samples_split                                                 10\n",
       "param_fitch                          PolynomialFeatures(degree=1, include_bias=True...\n",
       "param_fitch__degree                                                                  1\n",
       "param_preprocessing                  RobustScaler(copy=True, quantile_range=(25.0, ...\n",
       "params                               {'classifier': (DecisionTreeClassifier(class_w...\n",
       "split0_test_score                                                             0.675676\n",
       "split1_test_score                                                             0.533333\n",
       "split2_test_score                                                             0.514286\n",
       "mean_test_score                                                                 0.5746\n",
       "std_test_score                                                               0.0720594\n",
       "rank_test_score                                                                      1\n",
       "split0_train_score                                                            0.847682\n",
       "split1_train_score                                                            0.844156\n",
       "split2_train_score                                                            0.858974\n",
       "mean_train_score                                                              0.850271\n",
       "std_train_score                                                             0.00632049"
      ]
     },
     "execution_count": 2,
     "metadata": {},
     "output_type": "execute_result"
    }
   ],
   "source": [
    "f1score = make_scorer(f1_score)\n",
    "from sklearn.preprocessing import MinMaxScaler, StandardScaler, RobustScaler, minmax_scale, Normalizer, QuantileTransformer, PowerTransformer\n",
    "kfold = KFold(n_splits=5, shuffle=True, random_state=0)\n",
    "pipe = Pipeline([('preprocessing', StandardScaler()), \n",
    "                 ('fitch',PolynomialFeatures()),\n",
    "                 ('classifier', RandomForestClassifier(random_state=0))])\n",
    "\n",
    "fitch_degree = [1,2,3]\n",
    "param_grid =[\n",
    "    {'preprocessing': [MinMaxScaler(), StandardScaler(),RobustScaler(), Normalizer(), QuantileTransformer(), PowerTransformer()],\n",
    "     'fitch': [PolynomialFeatures()],\n",
    "     'fitch__degree': fitch_degree,\n",
    "     'classifier': [RandomForestClassifier(random_state=0)],\n",
    "     \"classifier__max_depth\": [3,10, None],\n",
    "              \"classifier__max_features\": [1, 3,5, 10],\n",
    "              \"classifier__min_samples_split\": [ 3,5, 10],\n",
    "              \"classifier__min_samples_leaf\": [1, 3, 10],\n",
    "              # \"bootstrap\": [True, False],\n",
    "              \"classifier__criterion\": [\"gini\", \"entropy\"],\n",
    "    }]\n",
    "\n",
    "\n",
    "grid= GridSearchCV(pipe, param_grid, return_train_score=True, iid=True,n_jobs=-1,scoring=f1score)\n",
    "grid.fit(X_train,y_train)\n",
    "grid_results=pd.DataFrame(grid.cv_results_)\n",
    "grid_results[grid_results['rank_test_score']==1].T"
   ]
  },
  {
   "cell_type": "markdown",
   "metadata": {},
   "source": [
    "# Тест"
   ]
  },
  {
   "cell_type": "code",
   "execution_count": 3,
   "metadata": {},
   "outputs": [
    {
     "name": "stdout",
     "output_type": "stream",
     "text": [
      "Правильность для наилучшей модели на тестовом наборе: 0.716418\n",
      "\n"
     ]
    },
    {
     "data": {
      "image/png": "[encoded data removed]",
      "text/plain": [
       "<Figure size 360x360 with 1 Axes>"
      ]
     },
     "metadata": {
      "needs_background": "light"
     },
     "output_type": "display_data"
    }
   ],
   "source": [
    "predict = (grid.predict_proba(X_test)[:,1]>=0.3).astype(bool)\n",
    "print(\"Правильность для наилучшей модели на тестовом наборе: {:.6f}\\n\".format(f1_score(predict,y_test)))\n",
    "\n",
    "matrix_1=confusion_matrix(y_test,predict)\n",
    "fig,ax = plt.subplots(1, sharex=True, sharey=True, figsize=(5,5))\n",
    "ax = sns.heatmap(matrix_1,annot=True, fmt='g', cbar=None,cmap=\"Blues\");\n",
    "plt.show()"
   ]
  },
  {
   "cell_type": "code",
   "execution_count": null,
   "metadata": {},
   "outputs": [],
   "source": []
  }
 ],
 "metadata": {
  "kernelspec": {
   "display_name": "Python 3",
   "language": "python",
   "name": "python3"
  },
  "language_info": {
   "codemirror_mode": {
    "name": "ipython",
    "version": 3
   },
   "file_extension": ".py",
   "mimetype": "text/x-python",
   "name": "python",
   "nbconvert_exporter": "python",
   "pygments_lexer": "ipython3",
   "version": "3.7.1"
  }
 },
 "nbformat": 4,
 "nbformat_minor": 2
}
